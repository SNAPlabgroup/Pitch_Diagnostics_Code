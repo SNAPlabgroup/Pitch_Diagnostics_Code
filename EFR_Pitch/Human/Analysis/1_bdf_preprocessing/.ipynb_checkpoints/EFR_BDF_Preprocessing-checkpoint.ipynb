{
 "cells": [
  {
   "cell_type": "code",
   "execution_count": 1,
   "id": "c3c1817e",
   "metadata": {},
   "outputs": [],
   "source": [
    "import os\n",
    "import sys\n",
    "import warnings\n",
    "import numpy as np \n",
    "import scipy.io\n",
    "import mne\n",
    "from anlffr.helper import biosemi2mne as bs\n",
    "from matplotlib import pyplot as plt\n",
    "from anlffr.preproc import find_blinks\n",
    "from mne.preprocessing.ssp import compute_proj_epochs\n",
    "\n",
    "warnings.filterwarnings('ignore')\n",
    "warnings.simplefilter('ignore')\n",
    "plt.rcParams['figure.figsize'] = [12, 8]\n",
    "plt.rcParams['figure.dpi']  = 120"
   ]
  },
  {
   "cell_type": "code",
   "execution_count": 2,
   "id": "a4be73c3",
   "metadata": {},
   "outputs": [
    {
     "ename": "IndexError",
     "evalue": "pop from empty list",
     "output_type": "error",
     "traceback": [
      "\u001b[0;31m---------------------------------------------------------------------------\u001b[0m",
      "\u001b[0;31mIndexError\u001b[0m                                Traceback (most recent call last)",
      "\u001b[0;32m<ipython-input-2-89620741c5f9>\u001b[0m in \u001b[0;36m<module>\u001b[0;34m\u001b[0m\n\u001b[1;32m     41\u001b[0m     \u001b[0mfs_new\u001b[0m \u001b[0;34m=\u001b[0m \u001b[0;36m4e3\u001b[0m\u001b[0;34m;\u001b[0m\u001b[0;34m\u001b[0m\u001b[0;34m\u001b[0m\u001b[0m\n\u001b[1;32m     42\u001b[0m \u001b[0;34m\u001b[0m\u001b[0m\n\u001b[0;32m---> 43\u001b[0;31m \u001b[0mraw\u001b[0m\u001b[0;34m,\u001b[0m \u001b[0meves\u001b[0m\u001b[0;34m,\u001b[0m \u001b[0mfiles\u001b[0m \u001b[0;34m=\u001b[0m \u001b[0mpoolBDF\u001b[0m\u001b[0;34m(\u001b[0m\u001b[0mtrialID\u001b[0m\u001b[0;34m,\u001b[0m \u001b[0mrefchans\u001b[0m\u001b[0;34m,\u001b[0m \u001b[0mfiltband\u001b[0m\u001b[0;34m,\u001b[0m \u001b[0mfs_new\u001b[0m \u001b[0;34m=\u001b[0m \u001b[0mfs_new\u001b[0m\u001b[0;34m)\u001b[0m\u001b[0;34m\u001b[0m\u001b[0;34m\u001b[0m\u001b[0m\n\u001b[0m\u001b[1;32m     44\u001b[0m \u001b[0;34m\u001b[0m\u001b[0m\n\u001b[1;32m     45\u001b[0m \u001b[0;32mtry\u001b[0m\u001b[0;34m:\u001b[0m\u001b[0;34m\u001b[0m\u001b[0;34m\u001b[0m\u001b[0m\n",
      "\u001b[0;32m/mnt/20D22780D22758F4/Shared/Code/Pitch_Diagnostics_Code/EFR_Pitch/Human/Analysis/1_bdf_preprocessing/bdf_preproc.py\u001b[0m in \u001b[0;36mpoolBDF\u001b[0;34m(trialID, refchans, filtband, fs_new, exclude, add_subderms)\u001b[0m\n\u001b[1;32m     17\u001b[0m     \u001b[0mfiles\u001b[0m \u001b[0;34m=\u001b[0m \u001b[0mglob\u001b[0m\u001b[0;34m.\u001b[0m\u001b[0mglob\u001b[0m\u001b[0;34m(\u001b[0m\u001b[0mtrialID\u001b[0m\u001b[0;34m+\u001b[0m\u001b[0;34m'.bdf'\u001b[0m\u001b[0;34m)\u001b[0m\u001b[0;34m;\u001b[0m\u001b[0;34m\u001b[0m\u001b[0;34m\u001b[0m\u001b[0m\n\u001b[1;32m     18\u001b[0m     \u001b[0mfiles\u001b[0m\u001b[0;34m.\u001b[0m\u001b[0msort\u001b[0m\u001b[0;34m(\u001b[0m\u001b[0;34m)\u001b[0m\u001b[0;34m;\u001b[0m\u001b[0;34m\u001b[0m\u001b[0;34m\u001b[0m\u001b[0m\n\u001b[0;32m---> 19\u001b[0;31m     \u001b[0mfiles\u001b[0m\u001b[0;34m.\u001b[0m\u001b[0minsert\u001b[0m\u001b[0;34m(\u001b[0m\u001b[0;36m0\u001b[0m\u001b[0;34m,\u001b[0m\u001b[0mfiles\u001b[0m\u001b[0;34m.\u001b[0m\u001b[0mpop\u001b[0m\u001b[0;34m(\u001b[0m\u001b[0mlen\u001b[0m\u001b[0;34m(\u001b[0m\u001b[0mfiles\u001b[0m\u001b[0;34m)\u001b[0m\u001b[0;34m-\u001b[0m\u001b[0;36m1\u001b[0m\u001b[0;34m)\u001b[0m\u001b[0;34m)\u001b[0m\u001b[0;34m\u001b[0m\u001b[0;34m\u001b[0m\u001b[0m\n\u001b[0m\u001b[1;32m     20\u001b[0m     \u001b[0mprint\u001b[0m\u001b[0;34m(\u001b[0m\u001b[0mfiles\u001b[0m\u001b[0;34m)\u001b[0m\u001b[0;34m\u001b[0m\u001b[0;34m\u001b[0m\u001b[0m\n\u001b[1;32m     21\u001b[0m     \u001b[0mraw\u001b[0m \u001b[0;34m=\u001b[0m \u001b[0;34m[\u001b[0m\u001b[0;34m]\u001b[0m\u001b[0;34m;\u001b[0m\u001b[0;34m\u001b[0m\u001b[0;34m\u001b[0m\u001b[0m\n",
      "\u001b[0;31mIndexError\u001b[0m: pop from empty list"
     ]
    }
   ],
   "source": [
    "#CHECK, Keep track of these parameters in notebook!\n",
    "f0 = 103;\n",
    "tot_harms = 4;\n",
    "lvl = 80;\n",
    "phase = 'alt';\n",
    "\n",
    "from bdf_preproc import poolBDF\n",
    "pwd = os.getcwd();\n",
    "\n",
    "subj = 'S353';\n",
    "cond = 'YNH';\n",
    "trialID = '*Pitch_EFR*';\n",
    "EFR = 1; #change to 1 if you want to look at EFRs, 0 is cortical response\n",
    "\n",
    "local = 0;\n",
    "\n",
    "save_preproc = 1;\n",
    "\n",
    "if local:\n",
    "    #Local Storage\n",
    "    measure_dir = '/mnt/20D22780D22758F4/Shared/Code/pitch_tools/Data/FFR/SNAPLab/';\n",
    "else:\n",
    "    #Ext Drive\n",
    "    measure_dir = '/media/sivaprakasaman/AndrewNVME/Pitch_Study/Pitch_Diagnostics_SH_AS/EFR_Pitch/Human/';   \n",
    "    \n",
    "    \n",
    "data_dir = measure_dir+cond+'/'+subj;\n",
    "out_loc = data_dir+'/EFR_Preprocessed';\n",
    "\n",
    "os.chdir(data_dir);\n",
    "\n",
    "refchans = ['EXG1','EXG2'];\n",
    "# refchans = ['EXG3','EXG4'];\n",
    "\n",
    "if EFR:\n",
    "    filtband = [65,4000];\n",
    "    fs_new = 2*filtband[1];\n",
    "\n",
    "else:\n",
    "    filtband = [1,20];\n",
    "    fs_new = 4e3;\n",
    "\n",
    "raw, eves, files = poolBDF(trialID, refchans, filtband, fs_new = fs_new)\n",
    "\n",
    "try:\n",
    "    os.mkdir('EFR_Preprocessed')\n",
    "except OSError as error:\n",
    "    print('Directory Present') \n",
    "\n",
    "os.chdir('EFR_Preprocessed');"
   ]
  },
  {
   "cell_type": "code",
   "execution_count": null,
   "id": "6157ffd9",
   "metadata": {},
   "outputs": [],
   "source": [
    "from anlffr.preproc import find_blinks\n",
    "from mne import compute_proj_epochs\n",
    "\n",
    "if not EFR:\n",
    "    blinks = find_blinks(raw)\n",
    "    epochs_blinks = mne.Epochs(raw, blinks, event_id=998, baseline=(-0.25, 0.25),\n",
    "                               reject=dict(eeg=500e-6), tmin=-0.25, tmax=0.25)\n",
    "\n",
    "    blink_proj = compute_proj_epochs(epochs_blinks, n_eeg=1)\n",
    "    raw.add_proj(blink_proj)"
   ]
  },
  {
   "cell_type": "code",
   "execution_count": null,
   "id": "aab24e3c",
   "metadata": {},
   "outputs": [],
   "source": [
    "bad_chans = ['EXG3','EXG4','EXG5'];\n",
    "raw.drop_channels(bad_chans);\n",
    "raw.info"
   ]
  },
  {
   "cell_type": "code",
   "execution_count": null,
   "id": "c88fb0b2",
   "metadata": {},
   "outputs": [],
   "source": [
    "#think about how to make this work for subjects with better/worse channels\n",
    "efr_chans = ['A5','A26','A9','A22','A31','A32'];\n",
    "# efr_chans = ['A31','A32'];\n",
    "fz_chan = ['A31'];\n",
    "cz_chan = ['A32'];"
   ]
  },
  {
   "cell_type": "code",
   "execution_count": null,
   "id": "fe8fe789",
   "metadata": {},
   "outputs": [],
   "source": [
    "tbounds = [-0.05,.25];\n",
    "bsline = (-.05,0);\n",
    "\n",
    "ranks = [2,4,6,8,10,12];\n",
    "\n",
    "chan_all_ranks_pos = [];\n",
    "chan_all_ranks_neg = [];\n",
    "all_pos_out = [];\n",
    "all_neg_out = [];\n",
    "\n",
    "to_proj = bool(~EFR);\n",
    "\n",
    "for r in ranks:\n",
    "    all_pos_rank = None;\n",
    "    all_neg_rank = None;\n",
    "    \n",
    "    epochs_rank_pos = mne.Epochs(raw,eves,[r],tmin=tbounds[0],tmax=tbounds[1],proj=to_proj, verbose = 'ERROR')\n",
    "    epochs_rank_neg = mne.Epochs(raw,eves,[r+100],tmin=tbounds[0],tmax=tbounds[1],proj=to_proj, verbose = 'ERROR')\n",
    "    \n",
    "    #assumes +/- polarities have same EEG cap orientation...should be a fair assumption lol\n",
    "    chan_names = epochs_rank_pos.ch_names;\n",
    "    id_efr = mne.pick_channels(chan_names, efr_chans);\n",
    "    id_fz = mne.pick_channels(chan_names, fz_chan);\n",
    "    id_cz = mne.pick_channels(chan_names, cz_chan);\n",
    "                               \n",
    "    pos = epochs_rank_pos.get_data();\n",
    "    neg = epochs_rank_neg.get_data();\n",
    "    \n",
    "    all_pos_efr = pos[:,id_efr,:];\n",
    "    all_pos_fz = pos[:,id_fz,:];\n",
    "    all_pos_cz = pos[:,id_cz,:];\n",
    "    \n",
    "    all_neg_efr = neg[:,id_efr,:];\n",
    "    all_neg_fz = neg[:,id_fz,:];\n",
    "    all_neg_cz = neg[:,id_cz,:];\n",
    "    \n",
    "    if save_preproc and EFR:\n",
    "            os.chdir(out_loc);\n",
    "            fname = 'F0_'+str(f0)+'_'+phase+'_rank_'+str(r)+'_tot_harms_'+str(tot_harms)+'_level_'+str(lvl)+'.mat';\n",
    "            scipy.io.savemat(fname, {'all_pos_cz':all_pos_cz,'all_neg_cz':all_neg_cz,'all_pos_fz':all_pos_fz,\n",
    "                             'all_neg_fz':all_neg_fz,'all_pos_central':all_pos_efr,'all_neg_central':all_neg_efr,\n",
    "                             'window':tbounds,'SampleRate':fs_new});\n",
    "            os.chdir(pwd);\n",
    "            \n",
    "            \n",
    "    pos_avgs = epochs_rank_pos.average();\n",
    "    neg_avgs = epochs_rank_neg.average();\n",
    "    \n",
    "    all_pos_out.append(pos_avgs);\n",
    "    all_neg_out.append(neg_avgs);"
   ]
  },
  {
   "cell_type": "code",
   "execution_count": null,
   "id": "9fd75c24",
   "metadata": {},
   "outputs": [],
   "source": [
    "#Plotter\n",
    "chans_plot = id_cz;\n",
    "# chans_plot = [16];\n",
    "t = pos_avgs.times;\n",
    "\n",
    "for r in range(len(ranks)):\n",
    "    pos_plt = all_pos_out[r].data[chans_plot,:];\n",
    "    pos_plt = np.mean(pos_plt,0);\n",
    "    neg_plt = all_neg_out[r].data[chans_plot,:];\n",
    "    neg_plt = np.mean(neg_plt,0);\n",
    "    \n",
    "    plt.plot(t,(pos_plt+neg_plt)/2 + r*3.5e-7)\n",
    "    \n",
    "plt.legend(ranks)\n",
    "plt.xlabel('Time (s)')"
   ]
  },
  {
   "cell_type": "code",
   "execution_count": null,
   "id": "0dc4a113",
   "metadata": {},
   "outputs": [],
   "source": [
    "pos_avgs.plot(picks = chans_plot);"
   ]
  },
  {
   "cell_type": "code",
   "execution_count": null,
   "id": "4dc13c4a",
   "metadata": {},
   "outputs": [],
   "source": [
    "comb = mne.combine_evoked([pos_avgs,neg_avgs],weights = [.5,.5]);\n",
    "\n",
    "topo_fig = plt.figure();\n",
    "topo_fig.clear();\n",
    "plt.rcParams.update({'figure.figsize': (4,4)})\n",
    "plt.rcParams.update({'lines.linewidth': 1})\n",
    "topo_fig = plt.figure(dpi = 300)\n",
    "ax = plt.gca();\n",
    "topo_fig = comb.plot_topo(ylim = dict(eeg=[-4,4]),legend=False, axes = ax,title = 'Pitch EFR', color = 'black');\n",
    "#topo_fig2 = neg_avgs.plot_topo(ylim = dict(eeg=[-4,4.]),legend=False, axes = ax, title = 'ACCs', color = 'blue');\n",
    "topo_fig.show()\n",
    "plt.show()"
   ]
  },
  {
   "cell_type": "code",
   "execution_count": null,
   "id": "42334399",
   "metadata": {},
   "outputs": [],
   "source": [
    "comb.plot(picks = efr_chans);"
   ]
  },
  {
   "cell_type": "code",
   "execution_count": null,
   "id": "50f6ce17",
   "metadata": {},
   "outputs": [],
   "source": []
  },
  {
   "cell_type": "code",
   "execution_count": null,
   "id": "64c57a47",
   "metadata": {},
   "outputs": [],
   "source": [
    "#ITC Analysis"
   ]
  }
 ],
 "metadata": {
  "kernelspec": {
   "display_name": "Python 3",
   "language": "python",
   "name": "python3"
  },
  "language_info": {
   "codemirror_mode": {
    "name": "ipython",
    "version": 3
   },
   "file_extension": ".py",
   "mimetype": "text/x-python",
   "name": "python",
   "nbconvert_exporter": "python",
   "pygments_lexer": "ipython3",
   "version": "3.9.4"
  }
 },
 "nbformat": 4,
 "nbformat_minor": 5
}
