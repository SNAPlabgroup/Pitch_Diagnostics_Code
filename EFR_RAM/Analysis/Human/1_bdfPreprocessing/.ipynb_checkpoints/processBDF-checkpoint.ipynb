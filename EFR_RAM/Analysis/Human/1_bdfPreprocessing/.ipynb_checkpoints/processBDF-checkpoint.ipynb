{
 "cells": [
  {
   "cell_type": "code",
   "execution_count": 1,
   "metadata": {},
   "outputs": [],
   "source": [
    "import os\n",
    "import sys\n",
    "import warnings\n",
    "\n",
    "import mne\n",
    "from anlffr.helper import biosemi2mne as bs\n",
    "from matplotlib import pyplot as plt\n",
    "import numpy as np\n",
    "\n",
    "warnings.filterwarnings('ignore')\n",
    "warnings.simplefilter('ignore')\n",
    "plt.rcParams['figure.figsize'] = [12, 8]\n",
    "plt.rcParams['figure.dpi']  = 120"
   ]
  },
  {
   "cell_type": "code",
   "execution_count": 2,
   "metadata": {},
   "outputs": [],
   "source": [
    "from bdf_preproc import poolBDF\n",
    "pwd = os.getcwd();\n",
    "\n",
    "subj = 'S360';\n",
    "cond = 'YNH';\n",
    "fmod = 223;\n",
    "isAndrew = 1;\n",
    "\n",
    "trialID = '*RAM*' + str(fmod) +'*';\n",
    "\n",
    "EFR = 1; #change to 1 if you want to look at EFRs\n",
    "local = 0;"
   ]
  },
  {
   "cell_type": "code",
   "execution_count": 3,
   "metadata": {},
   "outputs": [],
   "source": [
    "if isAndrew:\n",
    "    if local:\n",
    "        #Local Storage\n",
    "        measure_dir = '/mnt/ECF4E22CF4E1F92A/Research/Data_Backup/Pitch_Study/F30_Full_Data/ACC/SNAPLab/';\n",
    "\n",
    "    else:\n",
    "        #Ext Drive\n",
    "        measure_dir = '/media/asivapr/AndrewNVME/Pitch_Study/Pitch_Diagnostics_SH_AS/EFR_RAM/Human/';\n"
   ]
  },
  {
   "cell_type": "code",
   "execution_count": 8,
   "metadata": {},
   "outputs": [],
   "source": [
    "if not isAndrew:\n",
    "    print('please define your own data_dir and out_loc');"
   ]
  },
  {
   "cell_type": "code",
   "execution_count": 5,
   "metadata": {},
   "outputs": [
    {
     "ename": "FileNotFoundError",
     "evalue": "[Errno 2] No such file or directory: '/media/sivaprakasaman/AndrewNVME/Pitch_Study/Pitch_Diagnostics_SH_AS/EFR_RAM/Human/YNH/S360'",
     "output_type": "error",
     "traceback": [
      "\u001b[0;31m---------------------------------------------------------------------------\u001b[0m",
      "\u001b[0;31mFileNotFoundError\u001b[0m                         Traceback (most recent call last)",
      "\u001b[0;32m<ipython-input-5-7c50edcb7670>\u001b[0m in \u001b[0;36m<module>\u001b[0;34m\u001b[0m\n\u001b[1;32m      2\u001b[0m \u001b[0mout_loc\u001b[0m \u001b[0;34m=\u001b[0m \u001b[0mdata_dir\u001b[0m \u001b[0;34m+\u001b[0m \u001b[0;34m'/Preprocessed'\u001b[0m\u001b[0;34m;\u001b[0m\u001b[0;34m\u001b[0m\u001b[0;34m\u001b[0m\u001b[0m\n\u001b[1;32m      3\u001b[0m \u001b[0;34m\u001b[0m\u001b[0m\n\u001b[0;32m----> 4\u001b[0;31m \u001b[0mos\u001b[0m\u001b[0;34m.\u001b[0m\u001b[0mchdir\u001b[0m\u001b[0;34m(\u001b[0m\u001b[0mdata_dir\u001b[0m\u001b[0;34m)\u001b[0m\u001b[0;34m;\u001b[0m\u001b[0;34m\u001b[0m\u001b[0;34m\u001b[0m\u001b[0m\n\u001b[0m\u001b[1;32m      5\u001b[0m \u001b[0;34m\u001b[0m\u001b[0m\n\u001b[1;32m      6\u001b[0m \u001b[0mrefchans\u001b[0m \u001b[0;34m=\u001b[0m \u001b[0;34m[\u001b[0m\u001b[0;34m'EXG1'\u001b[0m\u001b[0;34m,\u001b[0m\u001b[0;34m'EXG2'\u001b[0m\u001b[0;34m]\u001b[0m\u001b[0;34m;\u001b[0m\u001b[0;34m\u001b[0m\u001b[0;34m\u001b[0m\u001b[0m\n",
      "\u001b[0;31mFileNotFoundError\u001b[0m: [Errno 2] No such file or directory: '/media/sivaprakasaman/AndrewNVME/Pitch_Study/Pitch_Diagnostics_SH_AS/EFR_RAM/Human/YNH/S360'"
     ]
    }
   ],
   "source": [
    "data_dir = measure_dir+cond+'/'+subj;\n",
    "out_loc = data_dir + '/Preprocessed';\n",
    "\n",
    "os.chdir(data_dir);\n",
    "\n",
    "refchans = ['EXG1','EXG2'];\n",
    "# refchans = ['EXG3','EXG4'];\n",
    "\n",
    "if EFR:\n",
    "    filtband = [60,4000];\n",
    "    fs_new = 2*filtband[1];\n",
    "\n",
    "else:\n",
    "    filtband = [1,25];\n",
    "    fs_new = 4e3;\n",
    "\n",
    "raw, eves, files = poolBDF(trialID, refchans, filtband, fs_new = fs_new)\n",
    "fname = subj+'_RAM_' + str(fmod) +'_EFR_preProcessed.mat';\n",
    "try:\n",
    "    os.mkdir('Preprocessed')\n",
    "except OSError as error:\n",
    "    print('Directory Present') \n",
    "\n",
    "os.chdir(pwd);"
   ]
  },
  {
   "cell_type": "code",
   "execution_count": null,
   "metadata": {},
   "outputs": [],
   "source": [
    "%matplotlib inline\n",
    "raw.plot(duration = 25.0, scalings = dict(eeg=80e-6), n_channels = 37);"
   ]
  },
  {
   "cell_type": "code",
   "execution_count": null,
   "metadata": {},
   "outputs": [],
   "source": [
    "bad_chans = ['EXG3','EXG4','EXG5'];\n",
    "raw.drop_channels(bad_chans);\n",
    "raw.info"
   ]
  },
  {
   "cell_type": "code",
   "execution_count": null,
   "metadata": {},
   "outputs": [],
   "source": [
    "from anlffr.preproc import find_blinks\n",
    "from mne import compute_proj_epochs\n",
    "\n",
    "if not EFR:\n",
    "    blinks = find_blinks(raw)\n",
    "    epochs_blinks = mne.Epochs(raw, blinks, event_id=998, baseline=(-0.25, 0.25),\n",
    "                               reject=dict(eeg=500e-6), tmin=-0.25, tmax=0.25)\n",
    "\n",
    "    blink_proj = compute_proj_epochs(epochs_blinks, n_eeg=1)\n",
    "    raw.add_proj(blink_proj)"
   ]
  },
  {
   "cell_type": "code",
   "execution_count": null,
   "metadata": {},
   "outputs": [],
   "source": [
    "tbounds = [-0.2,1.2];\n",
    "bsline = (-.2,0);\n",
    "\n",
    "pos = 1;\n",
    "neg = 2;\n",
    "\n",
    "to_proj = bool(~EFR);\n",
    "\n",
    "epochs_p = mne.Epochs(raw, eves, event_id=pos, baseline=bsline, proj=to_proj,\n",
    "                    tmin=tbounds[0], tmax=tbounds[1], reject=dict(eeg=80e-5), verbose = 'ERROR')\n",
    "\n",
    "epochs_n = mne.Epochs(raw, eves, event_id=neg, baseline=bsline, proj=to_proj,\n",
    "                    tmin=tbounds[0], tmax=tbounds[1], reject=dict(eeg=80e-5), verbose = 'ERROR');"
   ]
  },
  {
   "cell_type": "code",
   "execution_count": null,
   "metadata": {},
   "outputs": [],
   "source": [
    "chan_names = epochs_p.ch_names;\n",
    "efr_chans = ['A32'];\n",
    "cort_chans= efr_chans;\n",
    "\n",
    "if EFR:\n",
    "#     chans2pick = mne.pick_channels_regexp(chan_names,'A.');\n",
    "    chans2pick = mne.pick_channels(chan_names,efr_chans);\n",
    "else:\n",
    "    chans2pick = mne.pick_channels(chan_names,cort_chans);"
   ]
  },
  {
   "cell_type": "code",
   "execution_count": null,
   "metadata": {},
   "outputs": [],
   "source": [
    "all_epochs_mean_cap = epochs_p.get_data();\n",
    "all_epochs_mean_cap = all_epochs_mean_cap[:,chans2pick,:];\n",
    "all_epochs_mean_p = np.mean(all_epochs_mean_cap,1);\n",
    "\n",
    "cap_p = np.mean(all_epochs_mean_p,0);\n",
    "cap_p_std_err = np.std(all_epochs_mean_p,0)/np.sqrt(np.size(all_epochs_mean_p,0));\n",
    "\n",
    "all_epochs_mean_cap = epochs_n.get_data();\n",
    "all_epochs_mean_cap = all_epochs_mean_cap[:,chans2pick,:];\n",
    "all_epochs_mean_n = np.mean(all_epochs_mean_cap,1);\n",
    "\n",
    "cap_n = np.mean(all_epochs_mean_n,0);\n",
    "cap_n_std_err = np.std(all_epochs_mean_n,0)/np.sqrt(np.size(all_epochs_mean_n,0));"
   ]
  },
  {
   "cell_type": "code",
   "execution_count": null,
   "metadata": {},
   "outputs": [],
   "source": [
    "chan_id = np.array(chans2pick);\n",
    "selected_chans = str([chan_names[index] for index in chan_id]);\n",
    "tmin = tbounds[0];\n",
    "t_vect = np.arange(0,np.size(cap_p,0))/fs_new;\n",
    "t_vect = t_vect + tmin;\n",
    "\n",
    "plt.rcParams['figure.figsize'] = [12, 8]\n",
    "#plot params\n",
    "xlims = tbounds;\n",
    "# xlims = [0.1,0.8];\n",
    "ylims = [-2e-6,1e-6];\n",
    "# ylims = [-9e-7,9e-7];\n",
    "\n",
    "\n",
    "buff = 0;\n",
    "plt.figure();\n",
    "plt.subplot(2,1,1);\n",
    "\n",
    "plt.plot(t_vect, cap_p-buff,linewidth=1,color = 'purple', label = \"Mean of EEG chans \"+ selected_chans)\n",
    "plt.fill_between(t_vect,cap_p+cap_p_std_err-buff,cap_p-cap_p_std_err-buff, color = 'purple', alpha=0.2)\n",
    "\n",
    "plt.xlim(xlims)\n",
    "plt.ylim(ylims)\n",
    "plt.legend(loc=3)\n",
    "plt.ylabel('Amplitude (V)')\n",
    "plt.title(\"+ polarity\")\n",
    "\n",
    "plt.subplot(2,1,2);\n",
    "plt.plot(t_vect, cap_n-buff,linewidth=1,color = 'blue', label = \"Mean of EEG chans \"+ selected_chans)\n",
    "plt.fill_between(t_vect,cap_n+cap_n_std_err-buff,cap_n-cap_n_std_err-buff, color = 'blue', alpha=0.2)\n",
    "\n",
    "plt.xlim(xlims)\n",
    "plt.ylim(ylims)\n",
    "plt.legend(loc=3)\n",
    "plt.ylabel('Amplitude (V)')\n",
    "plt.title(\"- polarity\")\n",
    "plt.rcParams.update({'font.size': 20})\n",
    "plt.show()"
   ]
  },
  {
   "cell_type": "code",
   "execution_count": null,
   "metadata": {},
   "outputs": [],
   "source": [
    "erp_p = epochs_p.average();\n",
    "erp_n = epochs_n.average();\n",
    "\n",
    "comb = mne.combine_evoked([erp_p,erp_n],[.5,.5]);\n",
    "comb.plot(picks = chans2pick);\n",
    "\n",
    "comb_export = comb.get_data(picks = chans2pick);"
   ]
  },
  {
   "cell_type": "code",
   "execution_count": null,
   "metadata": {},
   "outputs": [],
   "source": [
    "topo_fig = plt.figure();\n",
    "topo_fig.clear();\n",
    "# plt.rcParams.update({'figure.figsize': (4,4)})\n",
    "# plt.rcParams.update({'lines.linewidth': 1})\n",
    "topo_fig = plt.figure(dpi = 300)\n",
    "ax = plt.gca();\n",
    "# topo_fig = erp_up.plot_topo(ylim = dict(eeg=[-4,4]),legend=False, axes = ax,title = 'ACCs', color = 'purple');\n",
    "topo_fig = comb.plot_topo(ylim = dict(eeg=[-2,2.]),legend=False, axes = ax, title = 'ACCs', color = 'black');\n",
    "topo_fig.show()\n",
    "plt.show()"
   ]
  },
  {
   "cell_type": "code",
   "execution_count": null,
   "metadata": {},
   "outputs": [],
   "source": [
    "import scipy.io \n",
    "\n",
    "os.chdir(out_loc);\n",
    "scipy.io.savemat(fname, {'time':t_vect,'fs':fs_new,'filt_band':filtband,'mean_p_cap':cap_p, 'std_p_cap':cap_p_std_err,\n",
    "                         'mean_n_cap':cap_n, 'std_n_cap':cap_n_std_err,\n",
    "                         'cap_chan_ids':selected_chans,\n",
    "                         'all_epochs_pos':all_epochs_mean_p,\n",
    "                         'all_epochs_neg':all_epochs_mean_n,\n",
    "                        'combined_mean':comb_export});"
   ]
  }
 ],
 "metadata": {
  "kernelspec": {
   "display_name": "Python 3",
   "language": "python",
   "name": "python3"
  },
  "language_info": {
   "codemirror_mode": {
    "name": "ipython",
    "version": 3
   },
   "file_extension": ".py",
   "mimetype": "text/x-python",
   "name": "python",
   "nbconvert_exporter": "python",
   "pygments_lexer": "ipython3",
   "version": "3.9.4"
  }
 },
 "nbformat": 4,
 "nbformat_minor": 5
}
